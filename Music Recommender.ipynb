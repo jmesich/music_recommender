{
 "cells": [
  {
   "cell_type": "code",
   "execution_count": null,
   "metadata": {
    "collapsed": true
   },
   "outputs": [],
   "source": [
    "%matplotlib inline\n",
    "\n",
    "import pandas\n",
    "from sklearn.cross_validation import train_test_split\n",
    "import numpy as np\n",
    "import time\n",
    "from sklearn.externals import joblib\n",
    "import Recommender as rc"
   ]
  },
  {
   "cell_type": "code",
   "execution_count": null,
   "outputs": [],
   "source": [
    "#get the user song data\n",
    "user_song_data = pandas.read_table('10000.txt',header=None)\n",
    "user_song_data.columns = ['user_id', 'song_id', 'listen_count']\n",
    "\n",
    "#get metadata\n",
    "song_meta =  pandas.read_csv('song_data.csv')\n",
    "\n",
    "#Merge the two dataframes above to create input dataframe for recommender systems\n",
    "songs = pandas.merge(user_song_data, song_meta.drop_duplicates(['song_id']), on=\"song_id\", how=\"left\")\n"
   ],
   "metadata": {
    "collapsed": false,
    "pycharm": {
     "name": "#%%\n"
    }
   }
  },
  {
   "cell_type": "code",
   "execution_count": null,
   "outputs": [],
   "source": [
    "unique_users=songs['user_id'].unique()\n",
    "print(len(unique_users))\n",
    "unique_songs=songs['song'].unique()\n",
    "print(len(unique_songs))\n"
   ],
   "metadata": {
    "collapsed": false,
    "pycharm": {
     "name": "#%%\n"
    }
   }
  },
  {
   "cell_type": "code",
   "execution_count": null,
   "outputs": [],
   "source": [
    "train_data, test_data = train_test_split(songs, test_size = 0.20, random_state=0)"
   ],
   "metadata": {
    "collapsed": false,
    "pycharm": {
     "name": "#%%\n"
    }
   }
  },
  {
   "cell_type": "code",
   "execution_count": null,
   "outputs": [],
   "source": [
    "def pop_rec(user_no,training_data):\n",
    "    pm = rc.popularity_recommender_py()\n",
    "    pm.create(training_data, 'user_id', 'song')\n",
    "    user_id = unique_users[user_no]\n",
    "    pm.recommend(user_id)"
   ],
   "metadata": {
    "collapsed": false,
    "pycharm": {
     "name": "#%%\n"
    }
   }
  },
  {
   "cell_type": "code",
   "execution_count": null,
   "outputs": [],
   "source": [
    "pop_rec(train_data,3)\n"
   ],
   "metadata": {
    "collapsed": false,
    "pycharm": {
     "name": "#%%\n"
    }
   }
  },
  {
   "cell_type": "code",
   "execution_count": null,
   "outputs": [],
   "source": [
    "pop_rec(train_data,8)"
   ],
   "metadata": {
    "collapsed": false,
    "pycharm": {
     "name": "#%%\n"
    }
   }
  },
  {
   "cell_type": "code",
   "execution_count": null,
   "outputs": [],
   "source": [
    "def personal_recs(user_no, training_data):\n",
    "    personal_model = rc.item_similarity_recommender_py()\n",
    "    personal_model.create(training_data, 'user_id', 'song')\n",
    "    #Print the songs for the user in training data\n",
    "    user_id = unique_users[user_no]\n",
    "    user_items = personal_model.get_user_items(user_id)\n",
    "    personal_model.recommend(user_id)"
   ],
   "metadata": {
    "collapsed": false,
    "pycharm": {
     "name": "#%%\n"
    }
   }
  },
  {
   "cell_type": "code",
   "execution_count": null,
   "outputs": [],
   "source": [
    "personal_recs(5,train_data)\n"
   ],
   "metadata": {
    "collapsed": false,
    "pycharm": {
     "name": "#%%\n"
    }
   }
  },
  {
   "cell_type": "code",
   "execution_count": null,
   "outputs": [],
   "source": [
    "personal_recs(20,train_data)"
   ],
   "metadata": {
    "collapsed": false,
    "pycharm": {
     "name": "#%%\n"
    }
   }
  },
  {
   "cell_type": "code",
   "execution_count": null,
   "outputs": [],
   "source": [
    "def similar_songs(song_name,training_data):\n",
    "    personal_model = rc.item_similarity_recommender_py()\n",
    "    personal_model.create(training_data, 'user_id', 'song')\n",
    "    personal_model.get_similar_items([song_name])\n"
   ],
   "metadata": {
    "collapsed": false,
    "pycharm": {
     "name": "#%%\n"
    }
   }
  }
 ],
 "metadata": {
  "kernelspec": {
   "display_name": "Python 3",
   "language": "python",
   "name": "python3"
  },
  "language_info": {
   "codemirror_mode": {
    "name": "ipython",
    "version": 2
   },
   "file_extension": ".py",
   "mimetype": "text/x-python",
   "name": "python",
   "nbconvert_exporter": "python",
   "pygments_lexer": "ipython2",
   "version": "2.7.6"
  }
 },
 "nbformat": 4,
 "nbformat_minor": 0
}